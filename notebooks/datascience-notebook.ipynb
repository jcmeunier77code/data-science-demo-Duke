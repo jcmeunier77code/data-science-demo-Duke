{
  "nbformat": 4,
  "nbformat_minor": 0,
  "metadata": {
    "colab": {
      "provenance": [],
      "authorship_tag": "ABX9TyPUcYWBYuTGL/IhOuxW8GtW",
      "include_colab_link": true
    },
    "kernelspec": {
      "name": "python3",
      "display_name": "Python 3"
    },
    "language_info": {
      "name": "python"
    }
  },
  "cells": [
    {
      "cell_type": "markdown",
      "metadata": {
        "id": "view-in-github",
        "colab_type": "text"
      },
      "source": [
        "<a href=\"https://colab.research.google.com/github/jcmeunier77code/data-science-demo-Duke/blob/main/datascience-notebook.ipynb\" target=\"_parent\"><img src=\"https://colab.research.google.com/assets/colab-badge.svg\" alt=\"Open In Colab\"/></a>"
      ]
    },
    {
      "cell_type": "markdown",
      "source": [
        "# Data science notebook"
      ],
      "metadata": {
        "id": "T1_O-xPtgM0w"
      }
    },
    {
      "cell_type": "code",
      "source": [],
      "metadata": {
        "id": "7azb0O5Ygcp9"
      },
      "execution_count": null,
      "outputs": []
    },
    {
      "cell_type": "markdown",
      "source": [
        "## Import libraries"
      ],
      "metadata": {
        "id": "k_vitMmwgbnJ"
      }
    },
    {
      "cell_type": "code",
      "execution_count": null,
      "metadata": {
        "id": "nin4pyyqgJ5J"
      },
      "outputs": [],
      "source": []
    },
    {
      "cell_type": "code",
      "source": [
        "## Ingest"
      ],
      "metadata": {
        "id": "lYgWk0LUgkFl"
      },
      "execution_count": 1,
      "outputs": []
    },
    {
      "cell_type": "code",
      "source": [],
      "metadata": {
        "id": "PsoDEDU6gllJ"
      },
      "execution_count": null,
      "outputs": []
    },
    {
      "cell_type": "markdown",
      "source": [
        "## EDA"
      ],
      "metadata": {
        "id": "WGi3Vh9RgmLs"
      }
    },
    {
      "cell_type": "code",
      "source": [],
      "metadata": {
        "id": "_Qy3L70_gnVp"
      },
      "execution_count": null,
      "outputs": []
    },
    {
      "cell_type": "markdown",
      "source": [
        "## Modeling"
      ],
      "metadata": {
        "id": "3nLb5n0BgoAW"
      }
    },
    {
      "cell_type": "markdown",
      "source": [
        "### Classification algorithm 1"
      ],
      "metadata": {
        "id": "Zw20FW3Mgsnz"
      }
    },
    {
      "cell_type": "code",
      "source": [],
      "metadata": {
        "id": "HOVhdFpZgpKW"
      },
      "execution_count": null,
      "outputs": []
    },
    {
      "cell_type": "markdown",
      "source": [
        "## Clasification algorithm 2"
      ],
      "metadata": {
        "id": "U5G9j-r8gtPi"
      }
    },
    {
      "cell_type": "code",
      "source": [],
      "metadata": {
        "id": "uS-ILZv_gtwe"
      },
      "execution_count": null,
      "outputs": []
    },
    {
      "cell_type": "markdown",
      "source": [
        "## Conclusions"
      ],
      "metadata": {
        "id": "rnDNQGrqgpua"
      }
    },
    {
      "cell_type": "code",
      "source": [],
      "metadata": {
        "id": "UltTagq8grmz"
      },
      "execution_count": null,
      "outputs": []
    }
  ]
}